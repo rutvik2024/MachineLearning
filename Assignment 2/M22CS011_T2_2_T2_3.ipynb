{
  "cells": [
    {
      "cell_type": "code",
      "execution_count": 62,
      "metadata": {
        "id": "nD7N6QScB3Lg"
      },
      "outputs": [],
      "source": [
        "import numpy as np\n",
        "import pandas as pd\n",
        "import matplotlib.pyplot as plt\n",
        "import seaborn as sns\n",
        "from sklearn.preprocessing import StandardScaler\n",
        "from sklearn.decomposition import PCA\n",
        "from sklearn.cluster import KMeans\n",
        "from sklearn.mixture import GaussianMixture"
      ]
    },
    {
      "cell_type": "code",
      "execution_count": 33,
      "metadata": {
        "id": "5ObjvVu3CR4J"
      },
      "outputs": [],
      "source": [
        "df = pd.read_csv(\"test.csv\")"
      ]
    },
    {
      "cell_type": "code",
      "execution_count": 60,
      "metadata": {
        "colab": {
          "base_uri": "https://localhost:8080/"
        },
        "id": "BIR2m-T9Ci_X",
        "outputId": "0862c4e2-a87f-4ca9-abf6-1db33bbd96a5"
      },
      "outputs": [
        {
          "data": {
            "text/html": [
              "<div>\n",
              "<style scoped>\n",
              "    .dataframe tbody tr th:only-of-type {\n",
              "        vertical-align: middle;\n",
              "    }\n",
              "\n",
              "    .dataframe tbody tr th {\n",
              "        vertical-align: top;\n",
              "    }\n",
              "\n",
              "    .dataframe thead th {\n",
              "        text-align: right;\n",
              "    }\n",
              "</style>\n",
              "<table border=\"1\" class=\"dataframe\">\n",
              "  <thead>\n",
              "    <tr style=\"text-align: right;\">\n",
              "      <th></th>\n",
              "      <th>tBodyAcc-mean()-X</th>\n",
              "      <th>tBodyAcc-mean()-Y</th>\n",
              "      <th>tBodyAcc-mean()-Z</th>\n",
              "      <th>tBodyAcc-std()-X</th>\n",
              "      <th>tBodyAcc-std()-Y</th>\n",
              "      <th>tBodyAcc-std()-Z</th>\n",
              "      <th>tBodyAcc-mad()-X</th>\n",
              "      <th>tBodyAcc-mad()-Y</th>\n",
              "      <th>tBodyAcc-mad()-Z</th>\n",
              "      <th>tBodyAcc-max()-X</th>\n",
              "      <th>...</th>\n",
              "      <th>fBodyBodyGyroJerkMag-skewness()</th>\n",
              "      <th>fBodyBodyGyroJerkMag-kurtosis()</th>\n",
              "      <th>angle(tBodyAccMean,gravity)</th>\n",
              "      <th>angle(tBodyAccJerkMean),gravityMean)</th>\n",
              "      <th>angle(tBodyGyroMean,gravityMean)</th>\n",
              "      <th>angle(tBodyGyroJerkMean,gravityMean)</th>\n",
              "      <th>angle(X,gravityMean)</th>\n",
              "      <th>angle(Y,gravityMean)</th>\n",
              "      <th>angle(Z,gravityMean)</th>\n",
              "      <th>subject</th>\n",
              "    </tr>\n",
              "  </thead>\n",
              "  <tbody>\n",
              "    <tr>\n",
              "      <th>count</th>\n",
              "      <td>2947.000000</td>\n",
              "      <td>2947.000000</td>\n",
              "      <td>2947.000000</td>\n",
              "      <td>2947.000000</td>\n",
              "      <td>2947.000000</td>\n",
              "      <td>2947.000000</td>\n",
              "      <td>2947.000000</td>\n",
              "      <td>2947.000000</td>\n",
              "      <td>2947.000000</td>\n",
              "      <td>2947.000000</td>\n",
              "      <td>...</td>\n",
              "      <td>2947.000000</td>\n",
              "      <td>2947.000000</td>\n",
              "      <td>2947.000000</td>\n",
              "      <td>2947.000000</td>\n",
              "      <td>2947.000000</td>\n",
              "      <td>2947.000000</td>\n",
              "      <td>2947.000000</td>\n",
              "      <td>2947.000000</td>\n",
              "      <td>2947.000000</td>\n",
              "      <td>2947.000000</td>\n",
              "    </tr>\n",
              "    <tr>\n",
              "      <th>mean</th>\n",
              "      <td>0.273996</td>\n",
              "      <td>-0.017863</td>\n",
              "      <td>-0.108386</td>\n",
              "      <td>-0.613635</td>\n",
              "      <td>-0.508330</td>\n",
              "      <td>-0.633797</td>\n",
              "      <td>-0.641278</td>\n",
              "      <td>-0.522676</td>\n",
              "      <td>-0.637038</td>\n",
              "      <td>-0.462063</td>\n",
              "      <td>...</td>\n",
              "      <td>-0.277593</td>\n",
              "      <td>-0.598756</td>\n",
              "      <td>0.005264</td>\n",
              "      <td>0.003799</td>\n",
              "      <td>0.040029</td>\n",
              "      <td>-0.017298</td>\n",
              "      <td>-0.513923</td>\n",
              "      <td>0.074886</td>\n",
              "      <td>-0.048720</td>\n",
              "      <td>12.986427</td>\n",
              "    </tr>\n",
              "    <tr>\n",
              "      <th>std</th>\n",
              "      <td>0.060570</td>\n",
              "      <td>0.025745</td>\n",
              "      <td>0.042747</td>\n",
              "      <td>0.412597</td>\n",
              "      <td>0.494269</td>\n",
              "      <td>0.362699</td>\n",
              "      <td>0.385199</td>\n",
              "      <td>0.479899</td>\n",
              "      <td>0.357753</td>\n",
              "      <td>0.523916</td>\n",
              "      <td>...</td>\n",
              "      <td>0.317245</td>\n",
              "      <td>0.311042</td>\n",
              "      <td>0.336147</td>\n",
              "      <td>0.445077</td>\n",
              "      <td>0.634989</td>\n",
              "      <td>0.501311</td>\n",
              "      <td>0.509205</td>\n",
              "      <td>0.324300</td>\n",
              "      <td>0.241467</td>\n",
              "      <td>6.950984</td>\n",
              "    </tr>\n",
              "    <tr>\n",
              "      <th>min</th>\n",
              "      <td>-0.592004</td>\n",
              "      <td>-0.362884</td>\n",
              "      <td>-0.576184</td>\n",
              "      <td>-0.999606</td>\n",
              "      <td>-1.000000</td>\n",
              "      <td>-0.998955</td>\n",
              "      <td>-0.999417</td>\n",
              "      <td>-0.999914</td>\n",
              "      <td>-0.998899</td>\n",
              "      <td>-0.952357</td>\n",
              "      <td>...</td>\n",
              "      <td>-1.000000</td>\n",
              "      <td>-1.000000</td>\n",
              "      <td>-1.000000</td>\n",
              "      <td>-0.993402</td>\n",
              "      <td>-0.998898</td>\n",
              "      <td>-0.991096</td>\n",
              "      <td>-0.984195</td>\n",
              "      <td>-0.913704</td>\n",
              "      <td>-0.949228</td>\n",
              "      <td>2.000000</td>\n",
              "    </tr>\n",
              "    <tr>\n",
              "      <th>25%</th>\n",
              "      <td>0.262075</td>\n",
              "      <td>-0.024961</td>\n",
              "      <td>-0.121162</td>\n",
              "      <td>-0.990914</td>\n",
              "      <td>-0.973664</td>\n",
              "      <td>-0.976122</td>\n",
              "      <td>-0.992333</td>\n",
              "      <td>-0.974131</td>\n",
              "      <td>-0.975352</td>\n",
              "      <td>-0.934447</td>\n",
              "      <td>...</td>\n",
              "      <td>-0.517494</td>\n",
              "      <td>-0.829593</td>\n",
              "      <td>-0.130541</td>\n",
              "      <td>-0.282600</td>\n",
              "      <td>-0.518924</td>\n",
              "      <td>-0.428375</td>\n",
              "      <td>-0.829722</td>\n",
              "      <td>0.022140</td>\n",
              "      <td>-0.098485</td>\n",
              "      <td>9.000000</td>\n",
              "    </tr>\n",
              "    <tr>\n",
              "      <th>50%</th>\n",
              "      <td>0.277113</td>\n",
              "      <td>-0.016967</td>\n",
              "      <td>-0.108458</td>\n",
              "      <td>-0.931214</td>\n",
              "      <td>-0.790972</td>\n",
              "      <td>-0.827534</td>\n",
              "      <td>-0.937664</td>\n",
              "      <td>-0.799907</td>\n",
              "      <td>-0.817005</td>\n",
              "      <td>-0.852659</td>\n",
              "      <td>...</td>\n",
              "      <td>-0.311023</td>\n",
              "      <td>-0.683672</td>\n",
              "      <td>0.005188</td>\n",
              "      <td>0.006767</td>\n",
              "      <td>0.047113</td>\n",
              "      <td>-0.026726</td>\n",
              "      <td>-0.729648</td>\n",
              "      <td>0.181563</td>\n",
              "      <td>-0.010671</td>\n",
              "      <td>12.000000</td>\n",
              "    </tr>\n",
              "    <tr>\n",
              "      <th>75%</th>\n",
              "      <td>0.288097</td>\n",
              "      <td>-0.010143</td>\n",
              "      <td>-0.097123</td>\n",
              "      <td>-0.267395</td>\n",
              "      <td>-0.105919</td>\n",
              "      <td>-0.311432</td>\n",
              "      <td>-0.321719</td>\n",
              "      <td>-0.133488</td>\n",
              "      <td>-0.322771</td>\n",
              "      <td>-0.009965</td>\n",
              "      <td>...</td>\n",
              "      <td>-0.083559</td>\n",
              "      <td>-0.458332</td>\n",
              "      <td>0.146200</td>\n",
              "      <td>0.288113</td>\n",
              "      <td>0.622151</td>\n",
              "      <td>0.394387</td>\n",
              "      <td>-0.545939</td>\n",
              "      <td>0.260252</td>\n",
              "      <td>0.092373</td>\n",
              "      <td>18.000000</td>\n",
              "    </tr>\n",
              "    <tr>\n",
              "      <th>max</th>\n",
              "      <td>0.671887</td>\n",
              "      <td>0.246106</td>\n",
              "      <td>0.494114</td>\n",
              "      <td>0.465299</td>\n",
              "      <td>1.000000</td>\n",
              "      <td>0.489703</td>\n",
              "      <td>0.439657</td>\n",
              "      <td>1.000000</td>\n",
              "      <td>0.427958</td>\n",
              "      <td>0.786436</td>\n",
              "      <td>...</td>\n",
              "      <td>1.000000</td>\n",
              "      <td>1.000000</td>\n",
              "      <td>0.998898</td>\n",
              "      <td>0.986347</td>\n",
              "      <td>1.000000</td>\n",
              "      <td>1.000000</td>\n",
              "      <td>0.833180</td>\n",
              "      <td>1.000000</td>\n",
              "      <td>0.973113</td>\n",
              "      <td>24.000000</td>\n",
              "    </tr>\n",
              "  </tbody>\n",
              "</table>\n",
              "<p>8 rows × 562 columns</p>\n",
              "</div>"
            ],
            "text/plain": [
              "       tBodyAcc-mean()-X  tBodyAcc-mean()-Y  tBodyAcc-mean()-Z  \\\n",
              "count        2947.000000        2947.000000        2947.000000   \n",
              "mean            0.273996          -0.017863          -0.108386   \n",
              "std             0.060570           0.025745           0.042747   \n",
              "min            -0.592004          -0.362884          -0.576184   \n",
              "25%             0.262075          -0.024961          -0.121162   \n",
              "50%             0.277113          -0.016967          -0.108458   \n",
              "75%             0.288097          -0.010143          -0.097123   \n",
              "max             0.671887           0.246106           0.494114   \n",
              "\n",
              "       tBodyAcc-std()-X  tBodyAcc-std()-Y  tBodyAcc-std()-Z  tBodyAcc-mad()-X  \\\n",
              "count       2947.000000       2947.000000       2947.000000       2947.000000   \n",
              "mean          -0.613635         -0.508330         -0.633797         -0.641278   \n",
              "std            0.412597          0.494269          0.362699          0.385199   \n",
              "min           -0.999606         -1.000000         -0.998955         -0.999417   \n",
              "25%           -0.990914         -0.973664         -0.976122         -0.992333   \n",
              "50%           -0.931214         -0.790972         -0.827534         -0.937664   \n",
              "75%           -0.267395         -0.105919         -0.311432         -0.321719   \n",
              "max            0.465299          1.000000          0.489703          0.439657   \n",
              "\n",
              "       tBodyAcc-mad()-Y  tBodyAcc-mad()-Z  tBodyAcc-max()-X  ...  \\\n",
              "count       2947.000000       2947.000000       2947.000000  ...   \n",
              "mean          -0.522676         -0.637038         -0.462063  ...   \n",
              "std            0.479899          0.357753          0.523916  ...   \n",
              "min           -0.999914         -0.998899         -0.952357  ...   \n",
              "25%           -0.974131         -0.975352         -0.934447  ...   \n",
              "50%           -0.799907         -0.817005         -0.852659  ...   \n",
              "75%           -0.133488         -0.322771         -0.009965  ...   \n",
              "max            1.000000          0.427958          0.786436  ...   \n",
              "\n",
              "       fBodyBodyGyroJerkMag-skewness()  fBodyBodyGyroJerkMag-kurtosis()  \\\n",
              "count                      2947.000000                      2947.000000   \n",
              "mean                         -0.277593                        -0.598756   \n",
              "std                           0.317245                         0.311042   \n",
              "min                          -1.000000                        -1.000000   \n",
              "25%                          -0.517494                        -0.829593   \n",
              "50%                          -0.311023                        -0.683672   \n",
              "75%                          -0.083559                        -0.458332   \n",
              "max                           1.000000                         1.000000   \n",
              "\n",
              "       angle(tBodyAccMean,gravity)  angle(tBodyAccJerkMean),gravityMean)  \\\n",
              "count                  2947.000000                           2947.000000   \n",
              "mean                      0.005264                              0.003799   \n",
              "std                       0.336147                              0.445077   \n",
              "min                      -1.000000                             -0.993402   \n",
              "25%                      -0.130541                             -0.282600   \n",
              "50%                       0.005188                              0.006767   \n",
              "75%                       0.146200                              0.288113   \n",
              "max                       0.998898                              0.986347   \n",
              "\n",
              "       angle(tBodyGyroMean,gravityMean)  angle(tBodyGyroJerkMean,gravityMean)  \\\n",
              "count                       2947.000000                           2947.000000   \n",
              "mean                           0.040029                             -0.017298   \n",
              "std                            0.634989                              0.501311   \n",
              "min                           -0.998898                             -0.991096   \n",
              "25%                           -0.518924                             -0.428375   \n",
              "50%                            0.047113                             -0.026726   \n",
              "75%                            0.622151                              0.394387   \n",
              "max                            1.000000                              1.000000   \n",
              "\n",
              "       angle(X,gravityMean)  angle(Y,gravityMean)  angle(Z,gravityMean)  \\\n",
              "count           2947.000000           2947.000000           2947.000000   \n",
              "mean              -0.513923              0.074886             -0.048720   \n",
              "std                0.509205              0.324300              0.241467   \n",
              "min               -0.984195             -0.913704             -0.949228   \n",
              "25%               -0.829722              0.022140             -0.098485   \n",
              "50%               -0.729648              0.181563             -0.010671   \n",
              "75%               -0.545939              0.260252              0.092373   \n",
              "max                0.833180              1.000000              0.973113   \n",
              "\n",
              "           subject  \n",
              "count  2947.000000  \n",
              "mean     12.986427  \n",
              "std       6.950984  \n",
              "min       2.000000  \n",
              "25%       9.000000  \n",
              "50%      12.000000  \n",
              "75%      18.000000  \n",
              "max      24.000000  \n",
              "\n",
              "[8 rows x 562 columns]"
            ]
          },
          "execution_count": 60,
          "metadata": {},
          "output_type": "execute_result"
        }
      ],
      "source": [
        "df.describe()"
      ]
    },
    {
      "cell_type": "code",
      "execution_count": 35,
      "metadata": {
        "id": "l040_0ZWUK-y"
      },
      "outputs": [
        {
          "data": {
            "text/plain": [
              "array([[ 2.5717778e-01, -2.3285230e-02, -1.4653762e-02, ...,\n",
              "         2.7680104e-01, -5.7978304e-02,  2.0000000e+00],\n",
              "       [ 2.8602671e-01, -1.3163359e-02, -1.1908252e-01, ...,\n",
              "         2.8134292e-01, -8.3898014e-02,  2.0000000e+00],\n",
              "       [ 2.7548482e-01, -2.6050420e-02, -1.1815167e-01, ...,\n",
              "         2.8008303e-01, -7.9346197e-02,  2.0000000e+00],\n",
              "       ...,\n",
              "       [ 3.4996609e-01,  3.0077442e-02, -1.1578796e-01, ...,\n",
              "         2.7447878e-01,  1.8118355e-01,  2.4000000e+01],\n",
              "       [ 2.3759383e-01,  1.8466870e-02, -9.6498932e-02, ...,\n",
              "         2.6478161e-01,  1.8756291e-01,  2.4000000e+01],\n",
              "       [ 1.5362719e-01, -1.8436506e-02, -1.3701846e-01, ...,\n",
              "         2.6393619e-01,  1.8810340e-01,  2.4000000e+01]])"
            ]
          },
          "execution_count": 35,
          "metadata": {},
          "output_type": "execute_result"
        }
      ],
      "source": [
        "X = df.iloc[:,0:562]\n",
        "X = np.array(X)\n",
        "X"
      ]
    },
    {
      "cell_type": "code",
      "execution_count": 36,
      "metadata": {
        "id": "_Et9TEDPahH_"
      },
      "outputs": [],
      "source": [
        "scaler= StandardScaler()"
      ]
    },
    {
      "cell_type": "code",
      "execution_count": 37,
      "metadata": {
        "id": "A9P3P2R6apDj"
      },
      "outputs": [],
      "source": [
        "scaled_data = scaler.fit_transform(X)"
      ]
    },
    {
      "cell_type": "code",
      "execution_count": 38,
      "metadata": {
        "id": "AYIUrckwG3X1"
      },
      "outputs": [],
      "source": [
        "pca=PCA(n_components=2)"
      ]
    },
    {
      "cell_type": "code",
      "execution_count": 39,
      "metadata": {
        "colab": {
          "base_uri": "https://localhost:8080/"
        },
        "id": "wdxB48icanr_",
        "outputId": "21c726f1-7fde-4bc7-9047-5b647bfe5dab"
      },
      "outputs": [
        {
          "data": {
            "text/plain": [
              "array([[-0.2777081 , -0.21063123,  2.19307573, ...,  0.62272321,\n",
              "        -0.0383485 , -1.58082533],\n",
              "       [ 0.19865964,  0.18259066, -0.25026383, ...,  0.63673075,\n",
              "        -0.14570918, -1.58082533],\n",
              "       [ 0.02458676, -0.31805537, -0.22848456, ...,  0.63284514,\n",
              "        -0.12685534, -1.58082533],\n",
              "       ...,\n",
              "       [ 1.25445818,  1.86244113, -0.17318039, ...,  0.61556116,\n",
              "         0.95227139,  1.58473137],\n",
              "       [-0.60108793,  1.41138509,  0.27812868, ...,  0.58565426,\n",
              "         0.97869501,  1.58473137],\n",
              "       [-1.98758645, -0.02226443, -0.66991444, ...,  0.58304691,\n",
              "         0.98093374,  1.58473137]])"
            ]
          },
          "execution_count": 39,
          "metadata": {},
          "output_type": "execute_result"
        }
      ],
      "source": [
        "scaled_data"
      ]
    },
    {
      "cell_type": "code",
      "execution_count": 40,
      "metadata": {
        "colab": {
          "base_uri": "https://localhost:8080/"
        },
        "id": "ra1JTvs7HKGH",
        "outputId": "5e769443-d8e5-480d-cda7-3c8c546fc93f"
      },
      "outputs": [
        {
          "data": {
            "text/html": [
              "<style>#sk-container-id-2 {color: black;background-color: white;}#sk-container-id-2 pre{padding: 0;}#sk-container-id-2 div.sk-toggleable {background-color: white;}#sk-container-id-2 label.sk-toggleable__label {cursor: pointer;display: block;width: 100%;margin-bottom: 0;padding: 0.3em;box-sizing: border-box;text-align: center;}#sk-container-id-2 label.sk-toggleable__label-arrow:before {content: \"▸\";float: left;margin-right: 0.25em;color: #696969;}#sk-container-id-2 label.sk-toggleable__label-arrow:hover:before {color: black;}#sk-container-id-2 div.sk-estimator:hover label.sk-toggleable__label-arrow:before {color: black;}#sk-container-id-2 div.sk-toggleable__content {max-height: 0;max-width: 0;overflow: hidden;text-align: left;background-color: #f0f8ff;}#sk-container-id-2 div.sk-toggleable__content pre {margin: 0.2em;color: black;border-radius: 0.25em;background-color: #f0f8ff;}#sk-container-id-2 input.sk-toggleable__control:checked~div.sk-toggleable__content {max-height: 200px;max-width: 100%;overflow: auto;}#sk-container-id-2 input.sk-toggleable__control:checked~label.sk-toggleable__label-arrow:before {content: \"▾\";}#sk-container-id-2 div.sk-estimator input.sk-toggleable__control:checked~label.sk-toggleable__label {background-color: #d4ebff;}#sk-container-id-2 div.sk-label input.sk-toggleable__control:checked~label.sk-toggleable__label {background-color: #d4ebff;}#sk-container-id-2 input.sk-hidden--visually {border: 0;clip: rect(1px 1px 1px 1px);clip: rect(1px, 1px, 1px, 1px);height: 1px;margin: -1px;overflow: hidden;padding: 0;position: absolute;width: 1px;}#sk-container-id-2 div.sk-estimator {font-family: monospace;background-color: #f0f8ff;border: 1px dotted black;border-radius: 0.25em;box-sizing: border-box;margin-bottom: 0.5em;}#sk-container-id-2 div.sk-estimator:hover {background-color: #d4ebff;}#sk-container-id-2 div.sk-parallel-item::after {content: \"\";width: 100%;border-bottom: 1px solid gray;flex-grow: 1;}#sk-container-id-2 div.sk-label:hover label.sk-toggleable__label {background-color: #d4ebff;}#sk-container-id-2 div.sk-serial::before {content: \"\";position: absolute;border-left: 1px solid gray;box-sizing: border-box;top: 0;bottom: 0;left: 50%;z-index: 0;}#sk-container-id-2 div.sk-serial {display: flex;flex-direction: column;align-items: center;background-color: white;padding-right: 0.2em;padding-left: 0.2em;position: relative;}#sk-container-id-2 div.sk-item {position: relative;z-index: 1;}#sk-container-id-2 div.sk-parallel {display: flex;align-items: stretch;justify-content: center;background-color: white;position: relative;}#sk-container-id-2 div.sk-item::before, #sk-container-id-2 div.sk-parallel-item::before {content: \"\";position: absolute;border-left: 1px solid gray;box-sizing: border-box;top: 0;bottom: 0;left: 50%;z-index: -1;}#sk-container-id-2 div.sk-parallel-item {display: flex;flex-direction: column;z-index: 1;position: relative;background-color: white;}#sk-container-id-2 div.sk-parallel-item:first-child::after {align-self: flex-end;width: 50%;}#sk-container-id-2 div.sk-parallel-item:last-child::after {align-self: flex-start;width: 50%;}#sk-container-id-2 div.sk-parallel-item:only-child::after {width: 0;}#sk-container-id-2 div.sk-dashed-wrapped {border: 1px dashed gray;margin: 0 0.4em 0.5em 0.4em;box-sizing: border-box;padding-bottom: 0.4em;background-color: white;}#sk-container-id-2 div.sk-label label {font-family: monospace;font-weight: bold;display: inline-block;line-height: 1.2em;}#sk-container-id-2 div.sk-label-container {text-align: center;}#sk-container-id-2 div.sk-container {/* jupyter's `normalize.less` sets `[hidden] { display: none; }` but bootstrap.min.css set `[hidden] { display: none !important; }` so we also need the `!important` here to be able to override the default hidden behavior on the sphinx rendered scikit-learn.org. See: https://github.com/scikit-learn/scikit-learn/issues/21755 */display: inline-block !important;position: relative;}#sk-container-id-2 div.sk-text-repr-fallback {display: none;}</style><div id=\"sk-container-id-2\" class=\"sk-top-container\"><div class=\"sk-text-repr-fallback\"><pre>PCA(n_components=2)</pre><b>In a Jupyter environment, please rerun this cell to show the HTML representation or trust the notebook. <br />On GitHub, the HTML representation is unable to render, please try loading this page with nbviewer.org.</b></div><div class=\"sk-container\" hidden><div class=\"sk-item\"><div class=\"sk-estimator sk-toggleable\"><input class=\"sk-toggleable__control sk-hidden--visually\" id=\"sk-estimator-id-2\" type=\"checkbox\" checked><label for=\"sk-estimator-id-2\" class=\"sk-toggleable__label sk-toggleable__label-arrow\">PCA</label><div class=\"sk-toggleable__content\"><pre>PCA(n_components=2)</pre></div></div></div></div></div>"
            ],
            "text/plain": [
              "PCA(n_components=2)"
            ]
          },
          "execution_count": 40,
          "metadata": {},
          "output_type": "execute_result"
        }
      ],
      "source": [
        "pca.fit(scaled_data)"
      ]
    },
    {
      "cell_type": "code",
      "execution_count": 41,
      "metadata": {
        "id": "gKU0kCrYJh0G"
      },
      "outputs": [],
      "source": [
        "scaled_pca = pca.transform(scaled_data)"
      ]
    },
    {
      "cell_type": "code",
      "execution_count": 43,
      "metadata": {
        "colab": {
          "base_uri": "https://localhost:8080/"
        },
        "id": "D7Sf1W_FZNuV",
        "outputId": "992f4fbd-3dba-499b-b09c-d9b47393039a"
      },
      "outputs": [
        {
          "data": {
            "text/plain": [
              "(2947, 2)"
            ]
          },
          "execution_count": 43,
          "metadata": {},
          "output_type": "execute_result"
        }
      ],
      "source": [
        "scaled_pca.shape"
      ]
    },
    {
      "cell_type": "code",
      "execution_count": 44,
      "metadata": {
        "id": "002xcznpinlz"
      },
      "outputs": [],
      "source": [
        "dt_sc = pd.DataFrame(scaled_pca, columns = ['pca1','pca2'])"
      ]
    },
    {
      "cell_type": "code",
      "execution_count": 45,
      "metadata": {
        "colab": {
          "base_uri": "https://localhost:8080/",
          "height": 206
        },
        "id": "58VsMkWdi3zS",
        "outputId": "c3b885aa-1eec-4c08-9cb5-25a570563276"
      },
      "outputs": [
        {
          "data": {
            "text/html": [
              "<div>\n",
              "<style scoped>\n",
              "    .dataframe tbody tr th:only-of-type {\n",
              "        vertical-align: middle;\n",
              "    }\n",
              "\n",
              "    .dataframe tbody tr th {\n",
              "        vertical-align: top;\n",
              "    }\n",
              "\n",
              "    .dataframe thead th {\n",
              "        text-align: right;\n",
              "    }\n",
              "</style>\n",
              "<table border=\"1\" class=\"dataframe\">\n",
              "  <thead>\n",
              "    <tr style=\"text-align: right;\">\n",
              "      <th></th>\n",
              "      <th>pca1</th>\n",
              "      <th>pca2</th>\n",
              "    </tr>\n",
              "  </thead>\n",
              "  <tbody>\n",
              "    <tr>\n",
              "      <th>0</th>\n",
              "      <td>-10.885514</td>\n",
              "      <td>-2.516958</td>\n",
              "    </tr>\n",
              "    <tr>\n",
              "      <th>1</th>\n",
              "      <td>-14.132175</td>\n",
              "      <td>-1.361278</td>\n",
              "    </tr>\n",
              "    <tr>\n",
              "      <th>2</th>\n",
              "      <td>-15.411709</td>\n",
              "      <td>1.992661</td>\n",
              "    </tr>\n",
              "    <tr>\n",
              "      <th>3</th>\n",
              "      <td>-15.673719</td>\n",
              "      <td>1.309248</td>\n",
              "    </tr>\n",
              "    <tr>\n",
              "      <th>4</th>\n",
              "      <td>-14.882018</td>\n",
              "      <td>-2.341210</td>\n",
              "    </tr>\n",
              "  </tbody>\n",
              "</table>\n",
              "</div>"
            ],
            "text/plain": [
              "        pca1      pca2\n",
              "0 -10.885514 -2.516958\n",
              "1 -14.132175 -1.361278\n",
              "2 -15.411709  1.992661\n",
              "3 -15.673719  1.309248\n",
              "4 -14.882018 -2.341210"
            ]
          },
          "execution_count": 45,
          "metadata": {},
          "output_type": "execute_result"
        }
      ],
      "source": [
        "dt_sc.head()"
      ]
    },
    {
      "cell_type": "code",
      "execution_count": 46,
      "metadata": {
        "id": "4wenJaGti7bt"
      },
      "outputs": [],
      "source": [
        "dt_sc['target'] = df['Activity']"
      ]
    },
    {
      "cell_type": "code",
      "execution_count": 47,
      "metadata": {
        "colab": {
          "base_uri": "https://localhost:8080/",
          "height": 515
        },
        "id": "Qq5Cgb1tZRkB",
        "outputId": "9d618512-e19e-4454-8f43-d21e07f95c6c"
      },
      "outputs": [
        {
          "data": {
            "text/plain": [
              "Text(0, 0.5, 'second princpal component')"
            ]
          },
          "execution_count": 47,
          "metadata": {},
          "output_type": "execute_result"
        },
        {
          "data": {
            "image/png": "[encoded data removed]",
            "text/plain": [
              "<Figure size 720x576 with 1 Axes>"
            ]
          },
          "metadata": {
            "needs_background": "light"
          },
          "output_type": "display_data"
        }
      ],
      "source": [
        "plt.figure(figsize=(10,8))\n",
        "plt.scatter(dt_sc['pca1'],dt_sc['pca2'])\n",
        "plt.xlabel('First principal component')\n",
        "plt.ylabel('second princpal component')\n"
      ]
    },
    {
      "cell_type": "code",
      "execution_count": 48,
      "metadata": {
        "colab": {
          "base_uri": "https://localhost:8080/"
        },
        "id": "LgO1joLLjlok",
        "outputId": "61f8e254-fd65-4717-cd19-de09fe7dd252"
      },
      "outputs": [
        {
          "data": {
            "text/plain": [
              "array(['STANDING', 'SITTING', 'LAYING', 'WALKING', 'WALKING_DOWNSTAIRS',\n",
              "       'WALKING_UPSTAIRS'], dtype=object)"
            ]
          },
          "execution_count": 48,
          "metadata": {},
          "output_type": "execute_result"
        }
      ],
      "source": [
        "dt_sc.target.unique()"
      ]
    },
    {
      "cell_type": "code",
      "execution_count": 54,
      "metadata": {
        "colab": {
          "base_uri": "https://localhost:8080/"
        },
        "id": "tQbeEPP6Zs8y",
        "outputId": "64fef7de-9e20-4e1b-8717-c1d2665534f0"
      },
      "outputs": [
        {
          "data": {
            "text/plain": [
              "array([[ 0.00126   , -0.00358438, -0.00292131, ...,  0.02631097,\n",
              "         0.02494887, -0.00311389],\n",
              "       [ 0.0200641 ,  0.00362295, -0.00882065, ..., -0.05681827,\n",
              "        -0.04171527, -0.01296893]])"
            ]
          },
          "execution_count": 54,
          "metadata": {},
          "output_type": "execute_result"
        }
      ],
      "source": [
        "pca.components_"
      ]
    },
    {
      "cell_type": "code",
      "execution_count": 50,
      "metadata": {
        "colab": {
          "base_uri": "https://localhost:8080/"
        },
        "id": "sMJGbZmYCcIr",
        "outputId": "121c4935-cec4-4856-8993-85c660ae881c"
      },
      "outputs": [
        {
          "data": {
            "text/plain": [
              "array([[-10.88551401,  -2.51695775],\n",
              "       [-14.13217471,  -1.36127824],\n",
              "       [-15.41170939,   1.9926609 ],\n",
              "       ...,\n",
              "       [ 12.99143185,  -3.77102456],\n",
              "       [  9.00681979,  -5.21394353],\n",
              "       [ 10.31464521,  -4.98624608]])"
            ]
          },
          "execution_count": 50,
          "metadata": {},
          "output_type": "execute_result"
        }
      ],
      "source": [
        "scaled_pca"
      ]
    },
    {
      "cell_type": "code",
      "execution_count": 55,
      "metadata": {
        "id": "RPX4HuZJl8SC"
      },
      "outputs": [],
      "source": [
        "kmeans = KMeans(n_clusters=4)"
      ]
    },
    {
      "cell_type": "code",
      "execution_count": 56,
      "metadata": {
        "colab": {
          "base_uri": "https://localhost:8080/"
        },
        "id": "zVxXrwrf-pcE",
        "outputId": "42949797-c2c6-4a97-f6dc-ebb7fa2c3359"
      },
      "outputs": [
        {
          "data": {
            "text/html": [
              "<style>#sk-container-id-3 {color: black;background-color: white;}#sk-container-id-3 pre{padding: 0;}#sk-container-id-3 div.sk-toggleable {background-color: white;}#sk-container-id-3 label.sk-toggleable__label {cursor: pointer;display: block;width: 100%;margin-bottom: 0;padding: 0.3em;box-sizing: border-box;text-align: center;}#sk-container-id-3 label.sk-toggleable__label-arrow:before {content: \"▸\";float: left;margin-right: 0.25em;color: #696969;}#sk-container-id-3 label.sk-toggleable__label-arrow:hover:before {color: black;}#sk-container-id-3 div.sk-estimator:hover label.sk-toggleable__label-arrow:before {color: black;}#sk-container-id-3 div.sk-toggleable__content {max-height: 0;max-width: 0;overflow: hidden;text-align: left;background-color: #f0f8ff;}#sk-container-id-3 div.sk-toggleable__content pre {margin: 0.2em;color: black;border-radius: 0.25em;background-color: #f0f8ff;}#sk-container-id-3 input.sk-toggleable__control:checked~div.sk-toggleable__content {max-height: 200px;max-width: 100%;overflow: auto;}#sk-container-id-3 input.sk-toggleable__control:checked~label.sk-toggleable__label-arrow:before {content: \"▾\";}#sk-container-id-3 div.sk-estimator input.sk-toggleable__control:checked~label.sk-toggleable__label {background-color: #d4ebff;}#sk-container-id-3 div.sk-label input.sk-toggleable__control:checked~label.sk-toggleable__label {background-color: #d4ebff;}#sk-container-id-3 input.sk-hidden--visually {border: 0;clip: rect(1px 1px 1px 1px);clip: rect(1px, 1px, 1px, 1px);height: 1px;margin: -1px;overflow: hidden;padding: 0;position: absolute;width: 1px;}#sk-container-id-3 div.sk-estimator {font-family: monospace;background-color: #f0f8ff;border: 1px dotted black;border-radius: 0.25em;box-sizing: border-box;margin-bottom: 0.5em;}#sk-container-id-3 div.sk-estimator:hover {background-color: #d4ebff;}#sk-container-id-3 div.sk-parallel-item::after {content: \"\";width: 100%;border-bottom: 1px solid gray;flex-grow: 1;}#sk-container-id-3 div.sk-label:hover label.sk-toggleable__label {background-color: #d4ebff;}#sk-container-id-3 div.sk-serial::before {content: \"\";position: absolute;border-left: 1px solid gray;box-sizing: border-box;top: 0;bottom: 0;left: 50%;z-index: 0;}#sk-container-id-3 div.sk-serial {display: flex;flex-direction: column;align-items: center;background-color: white;padding-right: 0.2em;padding-left: 0.2em;position: relative;}#sk-container-id-3 div.sk-item {position: relative;z-index: 1;}#sk-container-id-3 div.sk-parallel {display: flex;align-items: stretch;justify-content: center;background-color: white;position: relative;}#sk-container-id-3 div.sk-item::before, #sk-container-id-3 div.sk-parallel-item::before {content: \"\";position: absolute;border-left: 1px solid gray;box-sizing: border-box;top: 0;bottom: 0;left: 50%;z-index: -1;}#sk-container-id-3 div.sk-parallel-item {display: flex;flex-direction: column;z-index: 1;position: relative;background-color: white;}#sk-container-id-3 div.sk-parallel-item:first-child::after {align-self: flex-end;width: 50%;}#sk-container-id-3 div.sk-parallel-item:last-child::after {align-self: flex-start;width: 50%;}#sk-container-id-3 div.sk-parallel-item:only-child::after {width: 0;}#sk-container-id-3 div.sk-dashed-wrapped {border: 1px dashed gray;margin: 0 0.4em 0.5em 0.4em;box-sizing: border-box;padding-bottom: 0.4em;background-color: white;}#sk-container-id-3 div.sk-label label {font-family: monospace;font-weight: bold;display: inline-block;line-height: 1.2em;}#sk-container-id-3 div.sk-label-container {text-align: center;}#sk-container-id-3 div.sk-container {/* jupyter's `normalize.less` sets `[hidden] { display: none; }` but bootstrap.min.css set `[hidden] { display: none !important; }` so we also need the `!important` here to be able to override the default hidden behavior on the sphinx rendered scikit-learn.org. See: https://github.com/scikit-learn/scikit-learn/issues/21755 */display: inline-block !important;position: relative;}#sk-container-id-3 div.sk-text-repr-fallback {display: none;}</style><div id=\"sk-container-id-3\" class=\"sk-top-container\"><div class=\"sk-text-repr-fallback\"><pre>KMeans(n_clusters=4)</pre><b>In a Jupyter environment, please rerun this cell to show the HTML representation or trust the notebook. <br />On GitHub, the HTML representation is unable to render, please try loading this page with nbviewer.org.</b></div><div class=\"sk-container\" hidden><div class=\"sk-item\"><div class=\"sk-estimator sk-toggleable\"><input class=\"sk-toggleable__control sk-hidden--visually\" id=\"sk-estimator-id-3\" type=\"checkbox\" checked><label for=\"sk-estimator-id-3\" class=\"sk-toggleable__label sk-toggleable__label-arrow\">KMeans</label><div class=\"sk-toggleable__content\"><pre>KMeans(n_clusters=4)</pre></div></div></div></div></div>"
            ],
            "text/plain": [
              "KMeans(n_clusters=4)"
            ]
          },
          "execution_count": 56,
          "metadata": {},
          "output_type": "execute_result"
        }
      ],
      "source": [
        "kmeans.fit(scaled_pca)"
      ]
    },
    {
      "cell_type": "code",
      "execution_count": 57,
      "metadata": {
        "colab": {
          "base_uri": "https://localhost:8080/"
        },
        "id": "2Jkgugjp-0T2",
        "outputId": "b775dc1a-5fa8-431b-8498-ebca7e5230d3"
      },
      "outputs": [
        {
          "data": {
            "text/plain": [
              "array([[ 10.73332158,  -4.37579324],\n",
              "       [-16.2747206 ,   4.18552362],\n",
              "       [ 25.31247959,   4.25447021],\n",
              "       [-13.00180185,  -3.88295519]])"
            ]
          },
          "execution_count": 57,
          "metadata": {},
          "output_type": "execute_result"
        }
      ],
      "source": [
        "kmeans.cluster_centers_"
      ]
    },
    {
      "cell_type": "code",
      "execution_count": 58,
      "metadata": {
        "colab": {
          "base_uri": "https://localhost:8080/"
        },
        "id": "wHXZvzMm_Bbu",
        "outputId": "eca55e48-855c-48c9-f0e9-533968a762cb"
      },
      "outputs": [
        {
          "data": {
            "text/plain": [
              "array([3, 3, 1, ..., 0, 0, 0])"
            ]
          },
          "execution_count": 58,
          "metadata": {},
          "output_type": "execute_result"
        }
      ],
      "source": [
        "kmeans.labels_"
      ]
    },
    {
      "cell_type": "code",
      "execution_count": 59,
      "metadata": {
        "colab": {
          "base_uri": "https://localhost:8080/",
          "height": 408
        },
        "id": "tEgRieEv_KWw",
        "outputId": "ecc6e5ef-120f-4dae-faea-87c86dc64a29"
      },
      "outputs": [
        {
          "data": {
            "text/plain": [
              "<matplotlib.collections.PathCollection at 0x1bfc4a27d60>"
            ]
          },
          "execution_count": 59,
          "metadata": {},
          "output_type": "execute_result"
        },
        {
          "data": {
            "image/png": "[encoded data removed]",
            "text/plain": [
              "<Figure size 720x432 with 2 Axes>"
            ]
          },
          "metadata": {
            "needs_background": "light"
          },
          "output_type": "display_data"
        }
      ],
      "source": [
        "fig, (ax1,ax2) = plt.subplots(1,2, sharey=True,figsize=(10,6))\n",
        "ax1.set_title('k means')\n",
        "ax1.scatter(scaled_pca[:,0],scaled_pca[:,1],c=kmeans.labels_,cmap='rainbow')\n",
        "ax2.set_title('Original')\n",
        "ax2.scatter(scaled_pca[:,0],scaled_pca[:,1],c=scaled_pca[:,1],cmap='rainbow')"
      ]
    },
    {
      "cell_type": "code",
      "execution_count": 64,
      "metadata": {},
      "outputs": [
        {
          "data": {
            "text/html": [
              "<style>#sk-container-id-5 {color: black;background-color: white;}#sk-container-id-5 pre{padding: 0;}#sk-container-id-5 div.sk-toggleable {background-color: white;}#sk-container-id-5 label.sk-toggleable__label {cursor: pointer;display: block;width: 100%;margin-bottom: 0;padding: 0.3em;box-sizing: border-box;text-align: center;}#sk-container-id-5 label.sk-toggleable__label-arrow:before {content: \"▸\";float: left;margin-right: 0.25em;color: #696969;}#sk-container-id-5 label.sk-toggleable__label-arrow:hover:before {color: black;}#sk-container-id-5 div.sk-estimator:hover label.sk-toggleable__label-arrow:before {color: black;}#sk-container-id-5 div.sk-toggleable__content {max-height: 0;max-width: 0;overflow: hidden;text-align: left;background-color: #f0f8ff;}#sk-container-id-5 div.sk-toggleable__content pre {margin: 0.2em;color: black;border-radius: 0.25em;background-color: #f0f8ff;}#sk-container-id-5 input.sk-toggleable__control:checked~div.sk-toggleable__content {max-height: 200px;max-width: 100%;overflow: auto;}#sk-container-id-5 input.sk-toggleable__control:checked~label.sk-toggleable__label-arrow:before {content: \"▾\";}#sk-container-id-5 div.sk-estimator input.sk-toggleable__control:checked~label.sk-toggleable__label {background-color: #d4ebff;}#sk-container-id-5 div.sk-label input.sk-toggleable__control:checked~label.sk-toggleable__label {background-color: #d4ebff;}#sk-container-id-5 input.sk-hidden--visually {border: 0;clip: rect(1px 1px 1px 1px);clip: rect(1px, 1px, 1px, 1px);height: 1px;margin: -1px;overflow: hidden;padding: 0;position: absolute;width: 1px;}#sk-container-id-5 div.sk-estimator {font-family: monospace;background-color: #f0f8ff;border: 1px dotted black;border-radius: 0.25em;box-sizing: border-box;margin-bottom: 0.5em;}#sk-container-id-5 div.sk-estimator:hover {background-color: #d4ebff;}#sk-container-id-5 div.sk-parallel-item::after {content: \"\";width: 100%;border-bottom: 1px solid gray;flex-grow: 1;}#sk-container-id-5 div.sk-label:hover label.sk-toggleable__label {background-color: #d4ebff;}#sk-container-id-5 div.sk-serial::before {content: \"\";position: absolute;border-left: 1px solid gray;box-sizing: border-box;top: 0;bottom: 0;left: 50%;z-index: 0;}#sk-container-id-5 div.sk-serial {display: flex;flex-direction: column;align-items: center;background-color: white;padding-right: 0.2em;padding-left: 0.2em;position: relative;}#sk-container-id-5 div.sk-item {position: relative;z-index: 1;}#sk-container-id-5 div.sk-parallel {display: flex;align-items: stretch;justify-content: center;background-color: white;position: relative;}#sk-container-id-5 div.sk-item::before, #sk-container-id-5 div.sk-parallel-item::before {content: \"\";position: absolute;border-left: 1px solid gray;box-sizing: border-box;top: 0;bottom: 0;left: 50%;z-index: -1;}#sk-container-id-5 div.sk-parallel-item {display: flex;flex-direction: column;z-index: 1;position: relative;background-color: white;}#sk-container-id-5 div.sk-parallel-item:first-child::after {align-self: flex-end;width: 50%;}#sk-container-id-5 div.sk-parallel-item:last-child::after {align-self: flex-start;width: 50%;}#sk-container-id-5 div.sk-parallel-item:only-child::after {width: 0;}#sk-container-id-5 div.sk-dashed-wrapped {border: 1px dashed gray;margin: 0 0.4em 0.5em 0.4em;box-sizing: border-box;padding-bottom: 0.4em;background-color: white;}#sk-container-id-5 div.sk-label label {font-family: monospace;font-weight: bold;display: inline-block;line-height: 1.2em;}#sk-container-id-5 div.sk-label-container {text-align: center;}#sk-container-id-5 div.sk-container {/* jupyter's `normalize.less` sets `[hidden] { display: none; }` but bootstrap.min.css set `[hidden] { display: none !important; }` so we also need the `!important` here to be able to override the default hidden behavior on the sphinx rendered scikit-learn.org. See: https://github.com/scikit-learn/scikit-learn/issues/21755 */display: inline-block !important;position: relative;}#sk-container-id-5 div.sk-text-repr-fallback {display: none;}</style><div id=\"sk-container-id-5\" class=\"sk-top-container\"><div class=\"sk-text-repr-fallback\"><pre>GaussianMixture(n_components=4)</pre><b>In a Jupyter environment, please rerun this cell to show the HTML representation or trust the notebook. <br />On GitHub, the HTML representation is unable to render, please try loading this page with nbviewer.org.</b></div><div class=\"sk-container\" hidden><div class=\"sk-item\"><div class=\"sk-estimator sk-toggleable\"><input class=\"sk-toggleable__control sk-hidden--visually\" id=\"sk-estimator-id-5\" type=\"checkbox\" checked><label for=\"sk-estimator-id-5\" class=\"sk-toggleable__label sk-toggleable__label-arrow\">GaussianMixture</label><div class=\"sk-toggleable__content\"><pre>GaussianMixture(n_components=4)</pre></div></div></div></div></div>"
            ],
            "text/plain": [
              "GaussianMixture(n_components=4)"
            ]
          },
          "execution_count": 64,
          "metadata": {},
          "output_type": "execute_result"
        }
      ],
      "source": [
        "d = pd.DataFrame(X)\n",
        "gmm = GaussianMixture(n_components=4)\n",
        "gmm.fit(d)"
      ]
    },
    {
      "cell_type": "code",
      "execution_count": 65,
      "metadata": {},
      "outputs": [
        {
          "data": {
            "text/plain": [
              "<matplotlib.collections.PathCollection at 0x1bfc4d681f0>"
            ]
          },
          "execution_count": 65,
          "metadata": {},
          "output_type": "execute_result"
        },
        {
          "data": {
            "image/png": "[encoded data removed]",
            "text/plain": [
              "<Figure size 432x288 with 1 Axes>"
            ]
          },
          "metadata": {
            "needs_background": "light"
          },
          "output_type": "display_data"
        }
      ],
      "source": [
        "labels = gmm.predict(d)\n",
        "\n",
        "d['labels'] = labels\n",
        "d0 = d[d['labels'] == 0]\n",
        "d1 = d[d['labels'] == 1]\n",
        "d2 = d[d['labels'] == 2]\n",
        "d3 = d[d['labels'] == 3]\n",
        "\n",
        "plt.scatter(d0[0], d0[1], c ='r')\n",
        "plt.scatter(d1[0], d1[1], c ='yellow')\n",
        "plt.scatter(d2[0], d2[1], c ='g')\n",
        "plt.scatter(d3[0], d3[1], c ='blue')"
      ]
    },
    {
      "cell_type": "code",
      "execution_count": 66,
      "metadata": {},
      "outputs": [
        {
          "name": "stdout",
          "output_type": "stream",
          "text": [
            "1838.6524828477925\n",
            "17\n"
          ]
        }
      ],
      "source": [
        "print(gmm.lower_bound_)\n",
        " \n",
        "print(gmm.n_iter_)"
      ]
    }
  ],
  "metadata": {
    "colab": {
      "provenance": []
    },
    "kernelspec": {
      "display_name": "Python 3.10.5 64-bit",
      "language": "python",
      "name": "python3"
    },
    "language_info": {
      "codemirror_mode": {
        "name": "ipython",
        "version": 3
      },
      "file_extension": ".py",
      "mimetype": "text/x-python",
      "name": "python",
      "nbconvert_exporter": "python",
      "pygments_lexer": "ipython3",
      "version": "3.10.5"
    },
    "vscode": {
      "interpreter": {
        "hash": "26de051ba29f2982a8de78e945f0abaf191376122a1563185a90213a26c5da77"
      }
    }
  },
  "nbformat": 4,
  "nbformat_minor": 0
}
