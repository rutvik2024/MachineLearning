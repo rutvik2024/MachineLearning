{
 "cells": [
  {
   "cell_type": "code",
   "execution_count": 2,
   "metadata": {
    "executionInfo": {
     "elapsed": 1123,
     "status": "ok",
     "timestamp": 1666012993195,
     "user": {
      "displayName": "Jash Ashokbhai Patel (M22CS061)",
      "userId": "17465895786467373872"
     },
     "user_tz": -330
    },
    "id": "iman3qLSmZRE"
   },
   "outputs": [],
   "source": [
    "import pandas as pd\n",
    "import numpy as np\n",
    "import matplotlib.pyplot as plt\n",
    "from matplotlib import style\n",
    "import seaborn as sns\n",
    "from sklearn.preprocessing import StandardScaler\n"
   ]
  },
  {
   "cell_type": "code",
   "execution_count": 3,
   "metadata": {
    "colab": {
     "base_uri": "https://localhost:8080/",
     "height": 262
    },
    "executionInfo": {
     "elapsed": 16863,
     "status": "ok",
     "timestamp": 1666013011016,
     "user": {
      "displayName": "Jash Ashokbhai Patel (M22CS061)",
      "userId": "17465895786467373872"
     },
     "user_tz": -330
    },
    "id": "eSB_rLyVsWqU",
    "outputId": "643d0892-1fd9-46de-da0d-365b6b6bc2c6"
   },
   "outputs": [
    {
     "data": {
      "text/html": [
       "<div>\n",
       "<style scoped>\n",
       "    .dataframe tbody tr th:only-of-type {\n",
       "        vertical-align: middle;\n",
       "    }\n",
       "\n",
       "    .dataframe tbody tr th {\n",
       "        vertical-align: top;\n",
       "    }\n",
       "\n",
       "    .dataframe thead th {\n",
       "        text-align: right;\n",
       "    }\n",
       "</style>\n",
       "<table border=\"1\" class=\"dataframe\">\n",
       "  <thead>\n",
       "    <tr style=\"text-align: right;\">\n",
       "      <th></th>\n",
       "      <th>Pregnancies</th>\n",
       "      <th>Glucose</th>\n",
       "      <th>BloodPressure</th>\n",
       "      <th>SkinThickness</th>\n",
       "      <th>Insulin</th>\n",
       "      <th>BMI</th>\n",
       "      <th>DiabetesPedigreeFunction</th>\n",
       "      <th>Age</th>\n",
       "      <th>Outcome</th>\n",
       "    </tr>\n",
       "  </thead>\n",
       "  <tbody>\n",
       "    <tr>\n",
       "      <th>0</th>\n",
       "      <td>6</td>\n",
       "      <td>148</td>\n",
       "      <td>72</td>\n",
       "      <td>35</td>\n",
       "      <td>0</td>\n",
       "      <td>33.6</td>\n",
       "      <td>0.627</td>\n",
       "      <td>50</td>\n",
       "      <td>1</td>\n",
       "    </tr>\n",
       "    <tr>\n",
       "      <th>1</th>\n",
       "      <td>1</td>\n",
       "      <td>85</td>\n",
       "      <td>66</td>\n",
       "      <td>29</td>\n",
       "      <td>0</td>\n",
       "      <td>26.6</td>\n",
       "      <td>0.351</td>\n",
       "      <td>31</td>\n",
       "      <td>0</td>\n",
       "    </tr>\n",
       "    <tr>\n",
       "      <th>2</th>\n",
       "      <td>8</td>\n",
       "      <td>183</td>\n",
       "      <td>64</td>\n",
       "      <td>0</td>\n",
       "      <td>0</td>\n",
       "      <td>23.3</td>\n",
       "      <td>0.672</td>\n",
       "      <td>32</td>\n",
       "      <td>1</td>\n",
       "    </tr>\n",
       "    <tr>\n",
       "      <th>3</th>\n",
       "      <td>1</td>\n",
       "      <td>89</td>\n",
       "      <td>66</td>\n",
       "      <td>23</td>\n",
       "      <td>94</td>\n",
       "      <td>28.1</td>\n",
       "      <td>0.167</td>\n",
       "      <td>21</td>\n",
       "      <td>0</td>\n",
       "    </tr>\n",
       "    <tr>\n",
       "      <th>4</th>\n",
       "      <td>0</td>\n",
       "      <td>137</td>\n",
       "      <td>40</td>\n",
       "      <td>35</td>\n",
       "      <td>168</td>\n",
       "      <td>43.1</td>\n",
       "      <td>2.288</td>\n",
       "      <td>33</td>\n",
       "      <td>1</td>\n",
       "    </tr>\n",
       "  </tbody>\n",
       "</table>\n",
       "</div>"
      ],
      "text/plain": [
       "   Pregnancies  Glucose  BloodPressure  SkinThickness  Insulin   BMI  \\\n",
       "0            6      148             72             35        0  33.6   \n",
       "1            1       85             66             29        0  26.6   \n",
       "2            8      183             64              0        0  23.3   \n",
       "3            1       89             66             23       94  28.1   \n",
       "4            0      137             40             35      168  43.1   \n",
       "\n",
       "   DiabetesPedigreeFunction  Age  Outcome  \n",
       "0                     0.627   50        1  \n",
       "1                     0.351   31        0  \n",
       "2                     0.672   32        1  \n",
       "3                     0.167   21        0  \n",
       "4                     2.288   33        1  "
      ]
     },
     "execution_count": 3,
     "metadata": {},
     "output_type": "execute_result"
    }
   ],
   "source": [
    "# read csv file as pandas dataframe \n",
    "df = pd.read_csv('diabetes.csv')\n",
    "df.head()"
   ]
  },
  {
   "cell_type": "code",
   "execution_count": 4,
   "metadata": {
    "colab": {
     "base_uri": "https://localhost:8080/"
    },
    "executionInfo": {
     "elapsed": 2,
     "status": "ok",
     "timestamp": 1666013309515,
     "user": {
      "displayName": "Jash Ashokbhai Patel (M22CS061)",
      "userId": "17465895786467373872"
     },
     "user_tz": -330
    },
    "id": "_aXl9SBBhz7x",
    "outputId": "9b057df0-c1db-4488-db75-4a230df0fd2b"
   },
   "outputs": [
    {
     "data": {
      "text/plain": [
       "array([[  6.   , 148.   ,  72.   , ...,  33.6  ,   0.627,  50.   ],\n",
       "       [  1.   ,  85.   ,  66.   , ...,  26.6  ,   0.351,  31.   ],\n",
       "       [  8.   , 183.   ,  64.   , ...,  23.3  ,   0.672,  32.   ],\n",
       "       ...,\n",
       "       [  5.   , 121.   ,  72.   , ...,  26.2  ,   0.245,  30.   ],\n",
       "       [  1.   , 126.   ,  60.   , ...,  30.1  ,   0.349,  47.   ],\n",
       "       [  1.   ,  93.   ,  70.   , ...,  30.4  ,   0.315,  23.   ]])"
      ]
     },
     "execution_count": 4,
     "metadata": {},
     "output_type": "execute_result"
    }
   ],
   "source": [
    "X = df.iloc[:,0:8].values\n",
    "X\n"
   ]
  },
  {
   "cell_type": "code",
   "execution_count": 5,
   "metadata": {
    "executionInfo": {
     "elapsed": 1,
     "status": "ok",
     "timestamp": 1666013309515,
     "user": {
      "displayName": "Jash Ashokbhai Patel (M22CS061)",
      "userId": "17465895786467373872"
     },
     "user_tz": -330
    },
    "id": "vfEi94TohaTp"
   },
   "outputs": [],
   "source": [
    "# k-mean cluster algorithm\n",
    "def kmeans(X, k):\n",
    "  # Create list who insert those which are belonging to that cluster\n",
    "  clusters = np.zeros(X.shape[0])\n",
    "  \n",
    "  centroids = np.random.choice(len(X),k)\n",
    "  while len(set(centroids)) != k:\n",
    "      centroids = np.random.choice(len(X),k)\n",
    "  np.sort(centroids)\n",
    "  \n",
    "  centroids = [X[i] for i in centroids]    # take random points centeroid of cluster\n",
    "\n",
    "  # print('Enter while')\n",
    "  while True:\n",
    "    # for each datapoint\n",
    "    for i,row in enumerate(X):\n",
    "      minimum_distance = float('inf')\n",
    "      distance = 0.0\n",
    "      # dist of datapoint from centroid\n",
    "      for j,cen in enumerate(centroids):\n",
    "        distance = np.sqrt(np.sum((row-cen)**2))\n",
    "\n",
    "        # store cloestest centroid\n",
    "        # print('check dist')\n",
    "        if minimum_distance > distance:\n",
    "          minimum_distance = distance\n",
    "          clusters[i] = j\n",
    "\n",
    "    \n",
    "    new_cen = pd.DataFrame(X).groupby(by=clusters).mean().values\n",
    "    # if centroid are same then break loop else calculate again\n",
    "    if np.count_nonzero(centroids - new_cen) == 0:\n",
    "      # print('break while')\n",
    "      break\n",
    "    else:\n",
    "      centroids = new_cen\n",
    "  return centroids, clusters\n",
    "\n"
   ]
  },
  {
   "cell_type": "code",
   "execution_count": 6,
   "metadata": {
    "executionInfo": {
     "elapsed": 3,
     "status": "ok",
     "timestamp": 1666013311744,
     "user": {
      "displayName": "Jash Ashokbhai Patel (M22CS061)",
      "userId": "17465895786467373872"
     },
     "user_tz": -330
    },
    "id": "Oj_8GfPFdeOS"
   },
   "outputs": [],
   "source": [
    "# for decide k value or analysis the value of k\n",
    "# use within clusters sum of squares\n",
    "def cal_sse(info, centroids, clusters):\n",
    "  total = 0\n",
    "\n",
    "  for i, value in enumerate(info):\n",
    "    total += np.sqrt((centroids[int(clusters[i]), 0] - value[0])**2 +\n",
    "                     (centroids[int(clusters[i]), 1] - value[1])**2)\n",
    "  return total\n",
    "\n"
   ]
  },
  {
   "cell_type": "code",
   "execution_count": 7,
   "metadata": {
    "id": "GCmrAuKP6-YQ"
   },
   "outputs": [],
   "source": [
    "centroids, clusters = kmeans(X, 2)"
   ]
  },
  {
   "cell_type": "code",
   "execution_count": 12,
   "metadata": {},
   "outputs": [
    {
     "data": {
      "text/plain": [
       "array([[3.55555556e+00, 1.17000000e+02, 6.66666667e-01, 2.00000000e+00,\n",
       "        6.94444444e-01, 2.57638889e+01, 3.93166667e-01, 3.04444444e+01],\n",
       "       [3.85526316e+00, 1.06657895e+02, 7.19210526e+01, 3.04342105e+01,\n",
       "        5.26315789e-01, 3.22605263e+01, 3.97039474e-01, 3.03552632e+01],\n",
       "       [2.41600000e+00, 9.65680000e+01, 6.79200000e+01, 2.58880000e+01,\n",
       "        6.73280000e+01, 3.02592000e+01, 4.83640000e-01, 2.69680000e+01],\n",
       "       [4.56666667e+00, 1.43233333e+02, 7.87000000e+01, 3.03333333e+00,\n",
       "        0.00000000e+00, 2.97233333e+01, 4.12366667e-01, 5.55333333e+01],\n",
       "       [3.84210526e+00, 1.52368421e+02, 7.14210526e+01, 2.95526316e+01,\n",
       "        3.11894737e+02, 3.47736842e+01, 5.41868421e-01, 3.33421053e+01],\n",
       "       [6.40425532e+00, 1.09595745e+02, 8.28936170e+01, 3.38297872e+00,\n",
       "        0.00000000e+00, 3.07063830e+01, 4.22914894e-01, 4.80212766e+01],\n",
       "       [3.47619048e+00, 1.34690476e+02, 7.24285714e+01, 3.14642857e+01,\n",
       "        1.94690476e+02, 3.48107143e+01, 6.05726190e-01, 3.36547619e+01],\n",
       "       [3.11111111e+00, 1.65833333e+02, 7.34444444e+01, 3.56666667e+01,\n",
       "        5.48833333e+02, 3.69611111e+01, 6.60666667e-01, 3.45555556e+01],\n",
       "       [6.48387097e+00, 1.73967742e+02, 7.90967742e+01, 4.83870968e-01,\n",
       "        0.00000000e+00, 3.39580645e+01, 4.35967742e-01, 4.12903226e+01],\n",
       "       [4.00869565e+00, 1.26521739e+02, 7.21043478e+01, 2.98782609e+01,\n",
       "        1.25017391e+02, 3.35478261e+01, 4.84365217e-01, 3.18521739e+01],\n",
       "       [4.15151515e+00, 1.65575758e+02, 8.08787879e+01, 3.70606061e+01,\n",
       "        5.45454545e+00, 3.77030303e+01, 5.93575758e-01, 3.52727273e+01],\n",
       "       [2.80000000e+00, 0.00000000e+00, 6.76000000e+01, 2.96000000e+01,\n",
       "        4.60000000e+00, 3.28800000e+01, 3.80200000e-01, 2.86000000e+01],\n",
       "       [3.71428571e+00, 1.22542857e+02, 7.06000000e+01, 6.42857143e-01,\n",
       "        0.00000000e+00, 3.06671429e+01, 4.01800000e-01, 2.95142857e+01],\n",
       "       [3.75000000e+00, 8.22666667e+01, 6.70500000e+01, 1.04333333e+01,\n",
       "        2.33333333e+00, 2.82816667e+01, 3.86216667e-01, 3.00000000e+01]])"
      ]
     },
     "execution_count": 12,
     "metadata": {},
     "output_type": "execute_result"
    }
   ],
   "source": [
    "centroids"
   ]
  },
  {
   "cell_type": "code",
   "execution_count": 13,
   "metadata": {},
   "outputs": [
    {
     "data": {
      "text/plain": [
       "array([10., 13.,  8.,  2.,  6., 12.,  2.,  0.,  7.,  5.,  5.,  8.,  3.,\n",
       "        7.,  6.,  0.,  6., 12.,  2.,  9.,  6.,  5.,  8.,  1.,  9.,  9.,\n",
       "        3.,  9.,  9.,  5.,  5.,  6.,  2., 13.,  1.,  6., 12.,  1.,  1.,\n",
       "        6., 10., 12.,  5.,  6.,  8., 10., 12., 13.,  1.,  0.,  2.,  2.,\n",
       "       13.,  4.,  4., 13.,  4.,  9.,  3.,  9.,  0., 12., 13.,  9., 12.,\n",
       "        1.,  1.,  5.,  2.,  9.,  2.,  9.,  5.,  4., 13., 11., 13.,  1.,\n",
       "        0.,  1., 12.,  0.,  2.,  1.,  3.,  9.,  1.,  2.,  9.,  1., 13.,\n",
       "        6.,  2.,  3.,  2.,  6.,  1.,  2.,  2.,  6.,  8., 12., 12.,  2.,\n",
       "       13.,  9.,  5.,  9., 13.,  2.,  9.,  7.,  2., 13.,  6.,  3., 12.,\n",
       "       13.,  1.,  2.,  9.,  1.,  9.,  3., 12.,  2.,  9.,  9.,  9.,  5.,\n",
       "        6., 12.,  6.,  1.,  2.,  9.,  2.,  2., 12.,  4.,  3.,  1.,  2.,\n",
       "        5.,  4.,  1., 13.,  9.,  3., 13.,  6., 12.,  9.,  7.,  8., 10.,\n",
       "        2.,  9.,  2.,  9., 10.,  9.,  4.,  1., 12.,  9., 10., 12., 12.,\n",
       "        2.,  5.,  9.,  0.,  2.,  2.,  9., 13.,  9.,  3., 12., 13.,  2.,\n",
       "       11., 13.,  3., 10.,  7.,  2.,  9.,  6., 12.,  9.,  8.,  0., 13.,\n",
       "        6., 12.,  2.,  9.,  4.,  1., 12.,  1.,  2.,  6.,  1.,  4.,  8.,\n",
       "        2., 10., 13., 10., 10.,  9.,  6.,  4.,  9.,  9., 13., 12.,  7.,\n",
       "        3.,  0.,  6.,  2., 13., 12., 10.,  7.,  2., 12.,  4.,  2., 12.,\n",
       "        2.,  8.,  6., 10., 10., 12., 13.,  2., 12.,  6.,  6.,  8., 12.,\n",
       "        7.,  4.,  1., 12., 12.,  2.,  1.,  6.,  1.,  1.,  1.,  4.,  9.,\n",
       "        9.,  0.,  1.,  3., 12.,  2.,  0.,  1., 13.,  0.,  1.,  2., 12.,\n",
       "        2.,  5.,  2.,  1.,  9.,  5.,  4., 12.,  9.,  9.,  8.,  5.,  9.,\n",
       "        7.,  6.,  2.,  2.,  2.,  2.,  6.,  6.,  3.,  9.,  4.,  6.,  6.,\n",
       "        5.,  0.,  9.,  2.,  5.,  3.,  9.,  9.,  9.,  6.,  6., 13.,  9.,\n",
       "        9.,  2.,  1.,  2.,  2.,  8.,  9.,  8.,  6.,  1., 12., 10.,  1.,\n",
       "        6.,  9.,  8.,  9.,  2.,  5.,  2.,  0.,  5.,  2.,  4.,  0.,  5.,\n",
       "        6.,  8.,  9.,  2., 11., 12.,  5.,  9.,  2.,  0.,  2., 11., 13.,\n",
       "       12., 13.,  2., 13.,  8.,  6.,  0.,  2.,  4.,  4.,  3.,  5.,  3.,\n",
       "        4.,  2., 12.,  1.,  2.,  9.,  7.,  2.,  2.,  2.,  9.,  4.,  2.,\n",
       "        2.,  8.,  2.,  2.,  1.,  6.,  2.,  9.,  2.,  1.,  1.,  4.,  2.,\n",
       "        6.,  8.,  4.,  2.,  8.,  4.,  9.,  1., 13., 10., 13.,  3.,  9.,\n",
       "       13.,  8.,  6.,  5., 13.,  8.,  7.,  1.,  6.,  4.,  2.,  6.,  7.,\n",
       "        1., 10., 13.,  9.,  6.,  2.,  2.,  1.,  6.,  4.,  0.,  6.,  9.,\n",
       "        6.,  0.,  2.,  2., 12., 13.,  0., 10., 12., 13.,  5., 10.,  2.,\n",
       "        9., 12., 12., 10.,  2.,  2.,  2.,  2.,  2., 12.,  6.,  0.,  9.,\n",
       "       10.,  3.,  2.,  6.,  2.,  2., 13.,  2.,  1.,  5.,  9., 13.,  2.,\n",
       "        0.,  9., 10.,  1.,  1.,  3., 12.,  3.,  6.,  9.,  2.,  3.,  4.,\n",
       "        1.,  2.,  9.,  0.,  6.,  7.,  4.,  1.,  8.,  2.,  1.,  1.,  9.,\n",
       "        0.,  3., 12.,  2.,  9.,  6.,  2.,  1., 11.,  2.,  1., 13.,  9.,\n",
       "        6.,  2.,  5., 13.,  6.,  5., 13.,  2.,  9.,  6.,  5., 13.,  4.,\n",
       "        2.,  9.,  0., 12., 12., 13.,  2.,  9.,  6., 12.,  9., 12.,  2.,\n",
       "        0.,  2.,  0.,  5., 13.,  6.,  9.,  6.,  6.,  1.,  2.,  2.,  6.,\n",
       "        6.,  6., 10., 10.,  1.,  2.,  5.,  2.,  9.,  6.,  1.,  5.,  1.,\n",
       "       13.,  5.,  4.,  2.,  2., 13.,  2.,  1.,  9.,  9.,  6., 13., 12.,\n",
       "        2.,  9.,  4.,  2.,  9., 12., 12., 10., 10.,  1.,  5.,  5.,  7.,\n",
       "       13.,  3., 12.,  6.,  0.,  1.,  9.,  3.,  9.,  6.,  6., 13.,  0.,\n",
       "        8.,  9.,  1.,  0.,  1.,  9.,  0.,  1.,  4.,  2.,  4.,  6.,  9.,\n",
       "        6.,  4.,  1.,  9., 12.,  5., 13.,  5.,  0.,  9., 13.,  8.,  9.,\n",
       "       12.,  2., 12., 12., 12., 13., 12.,  2., 12.,  6., 13.,  5.,  5.,\n",
       "        2.,  2.,  2.,  9., 12.,  3.,  0.,  9.,  7.,  9.,  6.,  9.,  1.,\n",
       "        2.,  9.,  2., 12.,  9.,  7.,  2.,  6.,  5.,  2.,  8., 10.,  6.,\n",
       "        9.,  1.,  9.,  3.,  1.,  6.,  9.,  6., 13.,  2.,  6.,  5.,  8.,\n",
       "        3., 13., 12.,  4.,  2., 10.,  9., 12.,  3.,  6., 12.,  1.,  6.,\n",
       "        6.,  5.,  8.,  9.,  9., 13.,  7.,  9.,  0.,  9., 12.,  6.,  1.,\n",
       "       10.,  0.,  9.,  1.,  0.,  4.,  8.,  9.,  4.,  1.,  1.,  4.,  5.,\n",
       "        4.,  6.,  5.,  6.,  1., 13.,  6.,  9.,  9.,  5.,  1.,  6., 10.,\n",
       "        8., 13.,  2., 12.,  9.,  6.,  5.,  1.,  9., 13.,  9.,  5.,  9.,\n",
       "        2.,  9.,  3.,  9.,  9., 10.,  2.,  6.,  8., 12.,  2.,  1.,  7.,\n",
       "       10.,  9., 10.,  5., 12.,  8., 13., 10., 13.,  6.,  1.,  9., 12.,\n",
       "        1.])"
      ]
     },
     "execution_count": 13,
     "metadata": {},
     "output_type": "execute_result"
    }
   ],
   "source": [
    "clusters"
   ]
  },
  {
   "cell_type": "code",
   "execution_count": 14,
   "metadata": {
    "colab": {
     "base_uri": "https://localhost:8080/",
     "height": 357
    },
    "executionInfo": {
     "elapsed": 225946,
     "status": "error",
     "timestamp": 1665992637367,
     "user": {
      "displayName": "Jash Ashokbhai Patel (M22CS061)",
      "userId": "17465895786467373872"
     },
     "user_tz": -330
    },
    "id": "LGv3mpOnt9my",
    "outputId": "5f85258d-8ac4-4fc7-f778-0769dd28d202"
   },
   "outputs": [],
   "source": [
    "# elbow method to decide value of k\n",
    "sse_list = []\n",
    "for K in range(1,15):\n",
    "  centroids, clusters = kmeans(X, K)\n",
    "  sse=0\n",
    "  for k in range(K):\n",
    "    sse+=np.sum((clusters[k+1]-centroids[k,:])**2)\n",
    "  sse_list=np.append(sse_list,sse)\n",
    "  "
   ]
  },
  {
   "cell_type": "code",
   "execution_count": 15,
   "metadata": {
    "id": "YdPDS3iQxHX7"
   },
   "outputs": [
    {
     "data": {
      "image/png": "[encoded data removed]",
      "text/plain": [
       "<Figure size 432x288 with 1 Axes>"
      ]
     },
     "metadata": {
      "needs_background": "light"
     },
     "output_type": "display_data"
    }
   ],
   "source": [
    "# decide k in K_mean\n",
    "K_array=np.arange(1,15)\n",
    "plt.plot(K_array,sse_list)\n",
    "plt.xlabel('K')\n",
    "plt.ylabel('SSE')\n",
    "plt.title('Elbow method to determine optimum number of clusters')\n",
    "plt.show()"
   ]
  },
  {
   "cell_type": "code",
   "execution_count": 16,
   "metadata": {},
   "outputs": [],
   "source": [
    "k = 2\n",
    "centroids, clusters = kmeans(X, k)"
   ]
  },
  {
   "cell_type": "code",
   "execution_count": 17,
   "metadata": {},
   "outputs": [
    {
     "data": {
      "text/plain": [
       "array([[  3.88391376, 115.26699834,  68.09784411,  17.6185738 ,\n",
       "         32.21227197,  31.17363184,   0.43757048,  33.11442786],\n",
       "       [  3.7030303 , 141.46060606,  72.78787879,  31.2       ,\n",
       "        253.70909091,  34.98545455,   0.59724848,  33.7030303 ]])"
      ]
     },
     "execution_count": 17,
     "metadata": {},
     "output_type": "execute_result"
    }
   ],
   "source": [
    "centroids"
   ]
  },
  {
   "cell_type": "code",
   "execution_count": null,
   "metadata": {},
   "outputs": [],
   "source": []
  }
 ],
 "metadata": {
  "colab": {
   "authorship_tag": "ABX9TyNuOyl4XEPLf8bsPSRcvsPu",
   "provenance": []
  },
  "kernelspec": {
   "display_name": "Python 3.10.5 64-bit",
   "language": "python",
   "name": "python3"
  },
  "language_info": {
   "codemirror_mode": {
    "name": "ipython",
    "version": 3
   },
   "file_extension": ".py",
   "mimetype": "text/x-python",
   "name": "python",
   "nbconvert_exporter": "python",
   "pygments_lexer": "ipython3",
   "version": "3.10.5"
  },
  "vscode": {
   "interpreter": {
    "hash": "26de051ba29f2982a8de78e945f0abaf191376122a1563185a90213a26c5da77"
   }
  }
 },
 "nbformat": 4,
 "nbformat_minor": 4
}
